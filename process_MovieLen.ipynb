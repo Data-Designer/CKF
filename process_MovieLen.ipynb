{
 "cells": [
  {
   "cell_type": "code",
   "execution_count": 16,
   "metadata": {},
   "outputs": [],
   "source": [
    "import numpy as np\n",
    "import pandas as pd\n",
    "import os\n",
    "import json\n",
    "import gzip\n",
    "import pandas as pd\n",
    "from urllib.request import urlopen\n",
    "from tqdm import tqdm \n",
    "def parse(path):\n",
    "  g = gzip.open(path, 'r')\n",
    "  for l in g:\n",
    "    yield json.loads(l)"
   ]
  },
  {
   "cell_type": "code",
   "execution_count": 17,
   "metadata": {},
   "outputs": [],
   "source": [
    "import pandas as pd\n",
    "import gzip\n",
    "import json\n",
    "import random \n",
    "def parse(path):\n",
    "  g = gzip.open(path, 'rb')\n",
    "  for l in g:\n",
    "    yield json.loads(l)\n",
    "\n",
    "def getDF(path):\n",
    "  i = 0\n",
    "  df = {}\n",
    "  for d in parse(path):\n",
    "    df[i] = d\n",
    "    i += 1\n",
    "  return pd.DataFrame.from_dict(df, orient='index')"
   ]
  },
  {
   "cell_type": "code",
   "execution_count": 18,
   "metadata": {},
   "outputs": [
    {
     "name": "stdout",
     "output_type": "stream",
     "text": [
      "7331\n",
      "421\n"
     ]
    },
    {
     "data": {
      "text/html": [
       "<div>\n",
       "<style scoped>\n",
       "    .dataframe tbody tr th:only-of-type {\n",
       "        vertical-align: middle;\n",
       "    }\n",
       "\n",
       "    .dataframe tbody tr th {\n",
       "        vertical-align: top;\n",
       "    }\n",
       "\n",
       "    .dataframe thead th {\n",
       "        text-align: right;\n",
       "    }\n",
       "</style>\n",
       "<table border=\"1\" class=\"dataframe\">\n",
       "  <thead>\n",
       "    <tr style=\"text-align: right;\">\n",
       "      <th></th>\n",
       "      <th>uid</th>\n",
       "      <th>iid</th>\n",
       "      <th>label</th>\n",
       "      <th>timestamp</th>\n",
       "      <th>his</th>\n",
       "      <th>his_title</th>\n",
       "      <th>title</th>\n",
       "      <th>flag</th>\n",
       "      <th>not_cold</th>\n",
       "      <th>his_length</th>\n",
       "    </tr>\n",
       "  </thead>\n",
       "  <tbody>\n",
       "    <tr>\n",
       "      <th>97</th>\n",
       "      <td>4</td>\n",
       "      <td>96</td>\n",
       "      <td>1</td>\n",
       "      <td>1040544350</td>\n",
       "      <td>[0, 38, 39, 40, 42, 43, 44, 45, 46, 47, 48, 50...</td>\n",
       "      <td>[, Star Wars: Episode IV - A New Hope (1977), ...</td>\n",
       "      <td>Deconstructing Harry (1997)</td>\n",
       "      <td>1.0</td>\n",
       "      <td>1</td>\n",
       "      <td>52</td>\n",
       "    </tr>\n",
       "    <tr>\n",
       "      <th>98</th>\n",
       "      <td>4</td>\n",
       "      <td>97</td>\n",
       "      <td>1</td>\n",
       "      <td>1040544350</td>\n",
       "      <td>[0, 38, 39, 40, 42, 43, 44, 45, 46, 47, 48, 50...</td>\n",
       "      <td>[, Star Wars: Episode IV - A New Hope (1977), ...</td>\n",
       "      <td>Indecent Proposal (1993)</td>\n",
       "      <td>1.0</td>\n",
       "      <td>1</td>\n",
       "      <td>53</td>\n",
       "    </tr>\n",
       "    <tr>\n",
       "      <th>99</th>\n",
       "      <td>4</td>\n",
       "      <td>98</td>\n",
       "      <td>0</td>\n",
       "      <td>1040544494</td>\n",
       "      <td>[0, 38, 39, 40, 42, 43, 44, 45, 46, 47, 48, 50...</td>\n",
       "      <td>[, Star Wars: Episode IV - A New Hope (1977), ...</td>\n",
       "      <td>Big Daddy (1999)</td>\n",
       "      <td>1.0</td>\n",
       "      <td>1</td>\n",
       "      <td>54</td>\n",
       "    </tr>\n",
       "    <tr>\n",
       "      <th>100</th>\n",
       "      <td>4</td>\n",
       "      <td>99</td>\n",
       "      <td>1</td>\n",
       "      <td>1040544521</td>\n",
       "      <td>[0, 38, 39, 40, 42, 43, 44, 45, 46, 47, 48, 50...</td>\n",
       "      <td>[, Star Wars: Episode IV - A New Hope (1977), ...</td>\n",
       "      <td>But I'm a Cheerleader (1999)</td>\n",
       "      <td>1.0</td>\n",
       "      <td>1</td>\n",
       "      <td>54</td>\n",
       "    </tr>\n",
       "    <tr>\n",
       "      <th>101</th>\n",
       "      <td>4</td>\n",
       "      <td>100</td>\n",
       "      <td>1</td>\n",
       "      <td>1040544564</td>\n",
       "      <td>[0, 38, 39, 40, 42, 43, 44, 45, 46, 47, 48, 50...</td>\n",
       "      <td>[, Star Wars: Episode IV - A New Hope (1977), ...</td>\n",
       "      <td>Desperately Seeking Susan (1985)</td>\n",
       "      <td>1.0</td>\n",
       "      <td>1</td>\n",
       "      <td>55</td>\n",
       "    </tr>\n",
       "  </tbody>\n",
       "</table>\n",
       "</div>"
      ],
      "text/plain": [
       "     uid  iid  label   timestamp  \\\n",
       "97     4   96      1  1040544350   \n",
       "98     4   97      1  1040544350   \n",
       "99     4   98      0  1040544494   \n",
       "100    4   99      1  1040544521   \n",
       "101    4  100      1  1040544564   \n",
       "\n",
       "                                                   his  \\\n",
       "97   [0, 38, 39, 40, 42, 43, 44, 45, 46, 47, 48, 50...   \n",
       "98   [0, 38, 39, 40, 42, 43, 44, 45, 46, 47, 48, 50...   \n",
       "99   [0, 38, 39, 40, 42, 43, 44, 45, 46, 47, 48, 50...   \n",
       "100  [0, 38, 39, 40, 42, 43, 44, 45, 46, 47, 48, 50...   \n",
       "101  [0, 38, 39, 40, 42, 43, 44, 45, 46, 47, 48, 50...   \n",
       "\n",
       "                                             his_title  \\\n",
       "97   [, Star Wars: Episode IV - A New Hope (1977), ...   \n",
       "98   [, Star Wars: Episode IV - A New Hope (1977), ...   \n",
       "99   [, Star Wars: Episode IV - A New Hope (1977), ...   \n",
       "100  [, Star Wars: Episode IV - A New Hope (1977), ...   \n",
       "101  [, Star Wars: Episode IV - A New Hope (1977), ...   \n",
       "\n",
       "                                title  flag  not_cold  his_length  \n",
       "97        Deconstructing Harry (1997)   1.0         1          52  \n",
       "98           Indecent Proposal (1993)   1.0         1          53  \n",
       "99                   Big Daddy (1999)   1.0         1          54  \n",
       "100      But I'm a Cheerleader (1999)   1.0         1          54  \n",
       "101  Desperately Seeking Susan (1985)   1.0         1          55  "
      ]
     },
     "execution_count": 18,
     "metadata": {},
     "output_type": "execute_result"
    }
   ],
   "source": [
    "import pickle as pkl\n",
    "\n",
    "test_datas = pd.read_pickle('../data/ML_1M/test_ood2.pkl')\n",
    "test_datas[\"uid\"] = test_datas[\"uid\"].apply(lambda x:int(x))\n",
    "test_datas[\"iid\"] = test_datas[\"iid\"].apply(lambda x:int(x))\n",
    "length = len(test_datas)\n",
    "history_length = []\n",
    "for i in range(length):\n",
    "    history_length.append(len(test_datas.iloc[i].his)-1)\n",
    "test_datas[\"his_length\"] = history_length\n",
    "print(len(test_datas))\n",
    "cold_data = 0\n",
    "for i in range(length):\n",
    "    if test_datas.iloc[i].his_length <=4:\n",
    "        cold_data += 1\n",
    "print(cold_data)\n",
    "test_datas.head()"
   ]
  },
  {
   "cell_type": "code",
   "execution_count": 19,
   "metadata": {},
   "outputs": [],
   "source": [
    "import pickle as pkl\n",
    "\n",
    "train_datas = pd.read_pickle('../data//ML_1M/train_ood2.pkl')\n",
    "\n",
    "length = len(train_datas)\n",
    "history_length = []\n",
    "for i in range(length):\n",
    "    history_length.append(len(train_datas.iloc[i].his)-1)\n",
    "train_datas[\"his_length\"] = history_length\n"
   ]
  },
  {
   "cell_type": "code",
   "execution_count": 20,
   "metadata": {},
   "outputs": [
    {
     "name": "stderr",
     "output_type": "stream",
     "text": [
      "100%|██████████| 33891/33891 [00:03<00:00, 10655.10it/s]"
     ]
    },
    {
     "name": "stdout",
     "output_type": "stream",
     "text": [
      "after filter train datas number:  14760\n",
      "after filter train datas user id number:  671\n"
     ]
    },
    {
     "name": "stderr",
     "output_type": "stream",
     "text": [
      "\n"
     ]
    }
   ],
   "source": [
    "\n",
    "train_datas = train_datas.sort_values(by=[\"uid\",\"timestamp\"])\n",
    "train_datas[\"uid\"] = train_datas[\"uid\"].apply(lambda x:int(x))\n",
    "train_datas[\"iid\"] = train_datas[\"iid\"].apply(lambda x:int(x))\n",
    "filtered_index = []\n",
    "for i in tqdm(range(len(train_datas))):\n",
    "    if len(train_datas.iloc[i].his) >= 2 and len(train_datas.iloc[i].his) <= 21:\n",
    "        filtered_index.append(i)\n",
    "train_datas = train_datas.iloc[filtered_index]\n",
    "print(\"after filter train datas number: \", len(train_datas))\n",
    "print(\"after filter train datas user id number: \", len(train_datas.uid.unique()))\n"
   ]
  },
  {
   "cell_type": "code",
   "execution_count": 21,
   "metadata": {},
   "outputs": [
    {
     "name": "stderr",
     "output_type": "stream",
     "text": [
      "100%|██████████| 7331/7331 [00:00<00:00, 10311.46it/s]\n"
     ]
    },
    {
     "name": "stdout",
     "output_type": "stream",
     "text": [
      "after filter test datas number:  1865\n",
      "after filter test datas user id number: 166\n"
     ]
    }
   ],
   "source": [
    "test_filtered_index = []\n",
    "for i in tqdm(range(len(test_datas))):\n",
    "    if len(test_datas.iloc[i].his) >=2 and len(test_datas.iloc[i].his) <=21:\n",
    "        test_filtered_index.append(i)\n",
    "test_datas = test_datas.iloc[test_filtered_index]\n",
    "print(\"after filter test datas number: \",len(test_datas))\n",
    "print(\"after filter test datas user id number:\", len(test_datas.uid.unique()))\n",
    "\n",
    "cold_user_id = set()\n",
    "for i in range(len(test_datas)):\n",
    "    if test_datas.iloc[i].not_cold == 0:\n",
    "        cold_user_id.add(int(test_datas.iloc[i].uid))\n",
    "\n",
    "cold_user_dict = {}\n",
    "cold_user_dict[\"cold_users_id\"] = list(cold_user_id)\n"
   ]
  },
  {
   "cell_type": "code",
   "execution_count": 22,
   "metadata": {},
   "outputs": [
    {
     "name": "stdout",
     "output_type": "stream",
     "text": [
      "729\n",
      "cold user number:  54\n"
     ]
    }
   ],
   "source": [
    "total_datas = pd.concat([train_datas, test_datas],axis=0)\n",
    "total_datas = total_datas.sort_values(by=[\"uid\",\"timestamp\"])\n",
    "user_last_index = []\n",
    "uid = 1\n",
    "for i in range(len(total_datas)):\n",
    "    if total_datas.iloc[i].uid == uid :\n",
    "        continue\n",
    "    else:\n",
    "        user_last_index.append(int(uid))\n",
    "        uid = total_datas.iloc[i].uid\n",
    "user_last_index.append(int(uid))\n",
    "print(len(user_last_index))\n",
    "\n",
    "user_squences_id = {}\n",
    "for id in user_last_index:\n",
    "   \n",
    "    user_squences_id[str(id)] = [id] + [int(item) for item in total_datas.iloc[i].his[1:]]\n",
    "    if len(user_squences_id[str(id)]) < 2:\n",
    "        user_squences_id[str(id)] += [0]\n",
    "def save_json(data, file):\n",
    "    with open(file, \"w\") as f:\n",
    "        json.dump(data, f)\n",
    "\n",
    "save_json(user_squences_id, \"../data/movielen_for_train/user_sequences_id.json\")\n",
    "save_json(cold_user_dict, \"../data/movielen_for_train/cold_users.json\")\n",
    "print(\"cold user number: \", len(cold_user_id))"
   ]
  },
  {
   "cell_type": "markdown",
   "metadata": {},
   "source": [
    "### DIN dataset"
   ]
  },
  {
   "cell_type": "code",
   "execution_count": 23,
   "metadata": {},
   "outputs": [
    {
     "data": {
      "text/html": [
       "<div>\n",
       "<style scoped>\n",
       "    .dataframe tbody tr th:only-of-type {\n",
       "        vertical-align: middle;\n",
       "    }\n",
       "\n",
       "    .dataframe tbody tr th {\n",
       "        vertical-align: top;\n",
       "    }\n",
       "\n",
       "    .dataframe thead th {\n",
       "        text-align: right;\n",
       "    }\n",
       "</style>\n",
       "<table border=\"1\" class=\"dataframe\">\n",
       "  <thead>\n",
       "    <tr style=\"text-align: right;\">\n",
       "      <th></th>\n",
       "      <th>uid</th>\n",
       "      <th>iid</th>\n",
       "      <th>label</th>\n",
       "      <th>timestamp</th>\n",
       "      <th>his</th>\n",
       "      <th>his_title</th>\n",
       "      <th>title</th>\n",
       "      <th>flag</th>\n",
       "      <th>not_cold</th>\n",
       "      <th>his_length</th>\n",
       "    </tr>\n",
       "  </thead>\n",
       "  <tbody>\n",
       "    <tr>\n",
       "      <th>1</th>\n",
       "      <td>1</td>\n",
       "      <td>2</td>\n",
       "      <td>1</td>\n",
       "      <td>994556636</td>\n",
       "      <td>[0, 1]</td>\n",
       "      <td>[, Shawshank Redemption, The (1994)]</td>\n",
       "      <td>Sting, The (1973)</td>\n",
       "      <td>-1.0</td>\n",
       "      <td>1</td>\n",
       "      <td>1</td>\n",
       "    </tr>\n",
       "    <tr>\n",
       "      <th>3</th>\n",
       "      <td>2</td>\n",
       "      <td>4</td>\n",
       "      <td>0</td>\n",
       "      <td>1009669071</td>\n",
       "      <td>[0, 3]</td>\n",
       "      <td>[, American Beauty (1999)]</td>\n",
       "      <td>Gone in 60 Seconds (2000)</td>\n",
       "      <td>-1.0</td>\n",
       "      <td>1</td>\n",
       "      <td>1</td>\n",
       "    </tr>\n",
       "    <tr>\n",
       "      <th>4</th>\n",
       "      <td>2</td>\n",
       "      <td>5</td>\n",
       "      <td>0</td>\n",
       "      <td>1009669071</td>\n",
       "      <td>[0, 3]</td>\n",
       "      <td>[, American Beauty (1999)]</td>\n",
       "      <td>Apostle, The (1997)</td>\n",
       "      <td>-1.0</td>\n",
       "      <td>1</td>\n",
       "      <td>1</td>\n",
       "    </tr>\n",
       "    <tr>\n",
       "      <th>5</th>\n",
       "      <td>2</td>\n",
       "      <td>6</td>\n",
       "      <td>0</td>\n",
       "      <td>1009669071</td>\n",
       "      <td>[0, 3]</td>\n",
       "      <td>[, American Beauty (1999)]</td>\n",
       "      <td>Booty Call (1997)</td>\n",
       "      <td>-1.0</td>\n",
       "      <td>1</td>\n",
       "      <td>1</td>\n",
       "    </tr>\n",
       "    <tr>\n",
       "      <th>6</th>\n",
       "      <td>2</td>\n",
       "      <td>7</td>\n",
       "      <td>0</td>\n",
       "      <td>1009669115</td>\n",
       "      <td>[0, 3]</td>\n",
       "      <td>[, American Beauty (1999)]</td>\n",
       "      <td>Star Trek III: The Search for Spock (1984)</td>\n",
       "      <td>-1.0</td>\n",
       "      <td>1</td>\n",
       "      <td>1</td>\n",
       "    </tr>\n",
       "  </tbody>\n",
       "</table>\n",
       "</div>"
      ],
      "text/plain": [
       "   uid  iid  label   timestamp     his                             his_title  \\\n",
       "1    1    2      1   994556636  [0, 1]  [, Shawshank Redemption, The (1994)]   \n",
       "3    2    4      0  1009669071  [0, 3]            [, American Beauty (1999)]   \n",
       "4    2    5      0  1009669071  [0, 3]            [, American Beauty (1999)]   \n",
       "5    2    6      0  1009669071  [0, 3]            [, American Beauty (1999)]   \n",
       "6    2    7      0  1009669115  [0, 3]            [, American Beauty (1999)]   \n",
       "\n",
       "                                        title  flag  not_cold  his_length  \n",
       "1                           Sting, The (1973)  -1.0         1           1  \n",
       "3                   Gone in 60 Seconds (2000)  -1.0         1           1  \n",
       "4                         Apostle, The (1997)  -1.0         1           1  \n",
       "5                           Booty Call (1997)  -1.0         1           1  \n",
       "6  Star Trek III: The Search for Spock (1984)  -1.0         1           1  "
      ]
     },
     "execution_count": 23,
     "metadata": {},
     "output_type": "execute_result"
    }
   ],
   "source": [
    "train_datas.head()"
   ]
  },
  {
   "cell_type": "code",
   "execution_count": 24,
   "metadata": {},
   "outputs": [],
   "source": [
    "\n",
    "train_dataset = train_datas[[\"uid\",'iid','label',\"his\"]]\n",
    "train_dataset.head()\n",
    "train_dataset.to_csv('../data/movielen/DIN_train.csv',index=None)\n",
    "\n",
    "\n",
    "test_dataset = test_datas[[\"uid\",\"iid\",\"label\",\"his\"]]\n",
    "test_dataset.to_csv('../data/movielen/DIN_test.csv', index=None)"
   ]
  },
  {
   "cell_type": "code",
   "execution_count": 30,
   "metadata": {},
   "outputs": [
    {
     "name": "stderr",
     "output_type": "stream",
     "text": [
      "  0%|          | 0/14760 [00:00<?, ?it/s]"
     ]
    },
    {
     "name": "stderr",
     "output_type": "stream",
     "text": [
      "100%|██████████| 14760/14760 [00:20<00:00, 710.91it/s]\n",
      "100%|██████████| 1865/1865 [00:02<00:00, 685.46it/s]"
     ]
    },
    {
     "name": "stdout",
     "output_type": "stream",
     "text": [
      "total itmes:  2643\n",
      "total users:  729\n",
      "length of id_2_title:  2643\n"
     ]
    },
    {
     "name": "stderr",
     "output_type": "stream",
     "text": [
      "\n"
     ]
    }
   ],
   "source": [
    "all_item_ids = set()\n",
    "all_user_ids = set()\n",
    "\n",
    "user_items_count = {} ### the item  each user purchased\n",
    "item_users_count = {} ### each item has been purchased by whom\n",
    "\n",
    "id_2_title = {}\n",
    "title_2_id = {}\n",
    "for i in tqdm(range(len(train_datas))):\n",
    "    all_user_ids.add(train_datas.iloc[i].uid)\n",
    "    user_items_count[train_datas.iloc[i].uid] = user_items_count.get(train_datas.iloc[i].uid, set())\n",
    "    his_ids = train_datas.iloc[i].his + [train_datas.iloc[i].iid]\n",
    "    his_title = train_datas.iloc[i].his_title + [train_datas.iloc[i].title]\n",
    "    for j in range(len(his_ids)):\n",
    "        all_item_ids.add(his_ids[j])\n",
    "        title_2_id[his_title[j]] = int(his_ids[j]) \n",
    "        id_2_title[his_ids[j]] = his_title[j]\n",
    "        \n",
    "\n",
    "        ### last item is candidate \n",
    "        if j != len(his_ids)-1:\n",
    "            user_items_count[train_datas.iloc[i].uid].add(his_ids[j])\n",
    "            item_users_count[his_ids[j]] = item_users_count.get(his_ids[j], set())\n",
    "            item_users_count[his_ids[j]].add(train_datas.iloc[i].uid)\n",
    "       \n",
    "\n",
    "for i in tqdm(range(len(test_datas))):\n",
    "    all_user_ids.add(test_datas.iloc[i].uid)\n",
    "    his_ids = test_datas.iloc[i].his + [test_datas.iloc[i].iid]\n",
    "    his_title = test_datas.iloc[i].his_title + [test_datas.iloc[i].title]\n",
    "    for j in range(len(his_ids)):\n",
    "        all_item_ids.add(his_ids[j])\n",
    "        id_2_title[his_ids[j]] = his_title[j]\n",
    "        title_2_id[his_title[j]] = int(his_ids[j]) \n",
    "\n",
    "        if j != len(his_ids)-1:\n",
    "            user_items_count[train_datas.iloc[i].uid].add(his_ids[j])\n",
    "            item_users_count[his_ids[j]] = item_users_count.get(his_ids[j], set())\n",
    "            item_users_count[his_ids[j]].add(train_datas.iloc[i].uid)\n",
    "       \n",
    "\n",
    "print(\"total itmes: \", len(all_item_ids))\n",
    "print(\"total users: \", len(all_user_ids))\n",
    "print(\"length of id_2_title: \", len(id_2_title))\n",
    "save_json(title_2_id, \"../data/movielen_for_train/title_2_id.json\")\n",
    "\n",
    "\n"
   ]
  },
  {
   "cell_type": "code",
   "execution_count": 31,
   "metadata": {},
   "outputs": [
    {
     "name": "stdout",
     "output_type": "stream",
     "text": [
      "Avg user purchase:  29.448584202682564  items.\n",
      "Avg item purchased by  7.4763526295875895  users.\n"
     ]
    }
   ],
   "source": [
    "user_total_purchase = 0\n",
    "item_total_purchase = 0 \n",
    "for user in user_items_count:\n",
    "    item_total_purchase += len(user_items_count[user])\n",
    "\n",
    "for item in item_users_count:\n",
    "    user_total_purchase += len(item_users_count[item])\n",
    "\n",
    "print(\"Avg user purchase: \", item_total_purchase / len(user_items_count), \" items.\")\n",
    "print(\"Avg item purchased by \", user_total_purchase / len(item_users_count), \" users.\")\n"
   ]
  },
  {
   "cell_type": "markdown",
   "metadata": {},
   "source": [
    "### MF Dataset"
   ]
  },
  {
   "cell_type": "code",
   "execution_count": null,
   "metadata": {},
   "outputs": [],
   "source": [
    "train_dataset = train_datas[[\"uid\",'iid','label']]\n",
    "train_dataset.head()\n",
    "train_dataset.to_csv('../data/movielen/MF_train.csv',index=None)\n",
    "\n",
    "\n",
    "test_dataset = test_datas[[\"uid\",\"iid\",\"label\"]]\n",
    "test_dataset.to_csv('../data/movielen/MF_test.csv', index=None)"
   ]
  },
  {
   "cell_type": "markdown",
   "metadata": {},
   "source": [
    "### CKF Dataset"
   ]
  },
  {
   "cell_type": "code",
   "execution_count": null,
   "metadata": {},
   "outputs": [],
   "source": [
    "filter_data = train_datas[[\"uid\",'iid',\"label\",\"his_title\",\"title\", \"his\"]]\n",
    "print(len(filter_data.uid.unique()))\n",
    "filter_data.head(20)"
   ]
  },
  {
   "cell_type": "code",
   "execution_count": null,
   "metadata": {},
   "outputs": [],
   "source": [
    "def generate_sequential_recommend_prompt(data):\n",
    "\n",
    "    \n",
    "    prompt = f\"\"\"The user's preferences are encoded in <unk>, he has interacted with the following items:{data[\"history_list\"]} recently.\n",
    "    Based on this information, I want you to select the user's favorite item in the list of candidate items following: {data[\"candidate_item_title\"]}. Your response should be a item's title in the list of candidate items.\n",
    "\"\"\"\n",
    "    return {\"input\":prompt, 'output': data['output'], \"user_id\":data['user_id'], \"candidate_item\":data[\"candidate_item\"], \"task_type\":\"sequential\", \"history_items_id\":data[\"history_items_id\"]}\n",
    "\n",
    "def generate_ctr_prompt(data):\n",
    "\n",
    "    prompt = f\"\"\"The user's preferences are encoded in <unk> , additionally, he has recently interacted the following items he likes {data[\"history_list\"]}.\n",
    "    Based on the user's preferences and items he liked, I want you to determine if the user will like the item whose title is: \"{data[\"candidate_item_title\"]} and its encoded feature is <unk>.\". Your response should be a simple \"Yes\" or \"No\" without any explanations.\n",
    "\"\"\"\n",
    "    return {\"input\":prompt, 'output': data['output'], \"user_id\":data['user_id'], \"candidate_item\":data[\"candidate_item\"], \"task_type\":\"ctr\", \"history_items_id\":data[\"history_items_id\"]}\n",
    "\n",
    "def generate_rating_prompt(data):\n",
    "\n",
    "    prompt = f\"\"\"The user whose preferences is <unk>  rated the following items he has interacted: {data[\"history_list\"]}. \n",
    "    Based on the user's rating, now given your item: {data[\"candidate_item_title\"]} with encoded feature is <unk>, you need to predict how will user rate for this item.Your response should be a number between 1-5 where 1 being lowest and 5 being highest.\n",
    "\"\"\"\n",
    "    return {\"input\":prompt, \"output\":data[\"output\"], \"user_id\":data[\"user_id\"], \"candidate_item\":data[\"candidate_item\"], \"task_type\":\"rating\", \"history_items_id\":data[\"history_items_id\"]}\n"
   ]
  },
  {
   "cell_type": "markdown",
   "metadata": {},
   "source": [
    "### ctr task train data"
   ]
  },
  {
   "cell_type": "code",
   "execution_count": null,
   "metadata": {},
   "outputs": [],
   "source": [
    "from tqdm import tqdm\n",
    "dict_datas_ctr = []\n",
    "for i in tqdm(range(len(train_datas))):\n",
    "    tmp = {}\n",
    "    tmp[\"history_list\"] = filter_data.iloc[i].his_title[1:]\n",
    "    if len(tmp[\"history_list\"]) == 0:continue\n",
    "    tmp[\"user_id\"] = filter_data.iloc[i].uid\n",
    "    tmp[\"candidate_item_title\"] = filter_data.iloc[i].title\n",
    "    tmp[\"candidate_item\"] = [filter_data.iloc[i].iid] + [0] * 9\n",
    "    tmp[\"output\"] = \"Yes.\" if filter_data.iloc[i].label == 1 else \"No.\"\n",
    "    tmp[\"history_items_id\"] = filter_data.iloc[i].his[1:]\n",
    "    dict_datas_ctr.append(tmp)\n",
    "\n",
    "ctr_datas = []\n",
    "for data in tqdm(dict_datas_ctr):\n",
    "    ctr_datas.append(generate_ctr_prompt(data))\n",
    "\n",
    "print(ctr_datas[100])\n",
    "print(\"ctr data: \",len(ctr_datas))"
   ]
  },
  {
   "cell_type": "markdown",
   "metadata": {},
   "source": [
    "### ctr test data "
   ]
  },
  {
   "cell_type": "code",
   "execution_count": null,
   "metadata": {},
   "outputs": [],
   "source": [
    "from tqdm import tqdm\n",
    "dict_datas_ctr = []\n",
    "for i in tqdm(range(len(test_datas))):\n",
    "    tmp = {}\n",
    "    tmp[\"history_list\"] = test_datas.iloc[i].his_title[1:]\n",
    "    if len(tmp[\"history_list\"]) == 0:continue\n",
    "    tmp[\"user_id\"] = test_datas.iloc[i].uid\n",
    "    tmp[\"candidate_item_title\"] = test_datas.iloc[i].title\n",
    "    tmp[\"candidate_item\"] = [test_datas.iloc[i].iid] + [0] * 9\n",
    "    tmp[\"output\"] = \"Yes.\" if test_datas.iloc[i].label == 1 else \"No.\"\n",
    "    tmp[\"history_items_id\"] = test_datas.iloc[i].his[1:]\n",
    "    dict_datas_ctr.append(tmp)\n",
    "\n",
    "ctr_datas_test = []\n",
    "for data in tqdm(dict_datas_ctr):\n",
    "    ctr_datas_test.append(generate_ctr_prompt(data))\n",
    "\n",
    "print(ctr_datas_test[100])\n",
    "print(\"ctr test data: \", len(ctr_datas_test))\n",
    "\n"
   ]
  },
  {
   "cell_type": "markdown",
   "metadata": {},
   "source": [
    "### Topk data"
   ]
  },
  {
   "cell_type": "code",
   "execution_count": null,
   "metadata": {},
   "outputs": [],
   "source": [
    "positive_datas = train_datas[(train_datas.label==1)]\n",
    "positive_datas\n"
   ]
  },
  {
   "cell_type": "code",
   "execution_count": null,
   "metadata": {},
   "outputs": [],
   "source": [
    "dict_datas_seq = []\n",
    "\n",
    "for i in tqdm(range(len(positive_datas))):\n",
    "    for j in range(1,3):\n",
    "        tmp = {}\n",
    "        tmp[\"user_id\"] = positive_datas.iloc[i].uid\n",
    "        tmp[\"history_list\"] = positive_datas.iloc[i].his_title[1:-j]\n",
    "        tmp[\"history_items_id\"] = positive_datas.iloc[i].his[1:-j]\n",
    "        sample_negative_ids =  random.sample(all_item_ids, 9)\n",
    "        candidate_item_ids = [positive_datas.iloc[i].iid] + sample_negative_ids\n",
    "        random.shuffle(candidate_item_ids)\n",
    "        tmp[\"candidate_item\"] = candidate_item_ids\n",
    "        tmp[\"candidate_item_title\"] = [\"item title: \" + id_2_title[item] + \", and its encoded feature is <unk>\" for item in candidate_item_ids]\n",
    "        tmp[\"output\"] = positive_datas.iloc[i].title\n",
    "        dict_datas_seq.append(tmp)\n",
    "    \n",
    "seq_datas = []\n",
    "for data in tqdm(dict_datas_seq):\n",
    "    seq_datas.append(generate_sequential_recommend_prompt(data))\n",
    "\n",
    "print(seq_datas[100])\n",
    "print(\"topk data: \", len(seq_datas))"
   ]
  },
  {
   "cell_type": "markdown",
   "metadata": {},
   "source": [
    "### TopK test dataset"
   ]
  },
  {
   "cell_type": "code",
   "execution_count": null,
   "metadata": {},
   "outputs": [],
   "source": [
    "positive_datas = test_datas[(test_datas.label==1)]\n",
    "print(len(positive_datas))\n",
    "print(len(test_datas))\n",
    "dict_datas_seq = []\n",
    "for i in tqdm(range(len(positive_datas))):\n",
    "    tmp = {}\n",
    "    tmp[\"user_id\"] = positive_datas.iloc[i].uid\n",
    "    tmp[\"history_list\"] = positive_datas.iloc[i].his_title[1:]\n",
    "    tmp[\"history_items_id\"] = positive_datas.iloc[i].his[1:]\n",
    "    sample_negative_ids =  random.sample(all_item_ids, 9)\n",
    "    candidate_item_ids = [positive_datas.iloc[i].iid] + sample_negative_ids\n",
    "    random.shuffle(candidate_item_ids)\n",
    "    tmp[\"candidate_item\"] = candidate_item_ids\n",
    "    tmp[\"candidate_item_title\"] = [\"item title: \" + id_2_title[item] + \", and its encoded feature is <unk>\" for item in candidate_item_ids]\n",
    "    tmp[\"output\"] = positive_datas.iloc[i].title\n",
    "    dict_datas_seq.append(tmp)\n",
    "    \n",
    "seq_datas_test = []\n",
    "for data in tqdm(dict_datas_seq):\n",
    "    seq_datas_test.append(generate_sequential_recommend_prompt(data))\n",
    "\n",
    "print(seq_datas_test[100])\n",
    "print(\"seq test data: \", len(seq_datas_test))"
   ]
  },
  {
   "cell_type": "markdown",
   "metadata": {},
   "source": [
    "### Rating data"
   ]
  },
  {
   "cell_type": "code",
   "execution_count": null,
   "metadata": {},
   "outputs": [],
   "source": [
    "rating = pd.read_csv(\"../data/ML_1M/ratings.dat\",header=None, sep='::', names=['uid','iid','rating','timestamp'],engine='python')\n",
    "item_info = pd.read_csv(\"../data/ML_1M/movies.dat\",sep='::',encoding='latin-1',engine='python',names=['iid','title','genres'])\n",
    "rating_title = pd.merge(rating, item_info, on='iid', how='inner')\n",
    "rating_title_new = rating_title.sort_values(by=[\"uid\", \"timestamp\"])\n",
    "rating_title_new[\"uid\"] =  rating_title_new[\"uid\"].apply(lambda x:int(x))\n",
    "rating_title_new[\"iid\"] =  rating_title_new[\"iid\"].apply(lambda x:int(x))"
   ]
  },
  {
   "cell_type": "code",
   "execution_count": null,
   "metadata": {},
   "outputs": [],
   "source": [
    "data_min = pd.to_datetime(rating_title_new.timestamp, unit='s').min()\n",
    "data_max = pd.to_datetime(rating_title_new.timestamp, unit='s').max()\n",
    "data_min, data_max"
   ]
  },
  {
   "cell_type": "code",
   "execution_count": null,
   "metadata": {},
   "outputs": [],
   "source": [
    "rating_title_new[\"time\"] = pd.to_datetime(rating_title_new.timestamp, unit='s').map(lambda x: (x.year - data_min.year)*12 + x.month)"
   ]
  },
  {
   "cell_type": "code",
   "execution_count": null,
   "metadata": {},
   "outputs": [],
   "source": [
    "rating_title_new[\"time\"] =  rating_title_new[\"time\"] - rating_title_new[\"time\"].min()"
   ]
  },
  {
   "cell_type": "code",
   "execution_count": null,
   "metadata": {},
   "outputs": [],
   "source": [
    "train_slot = list(range(14,24))\n",
    "valid_slot = list(range(24,29))\n",
    "test_slot = list(range(29,34))\n",
    "\n",
    "\n",
    "rating_title_new[\"label\"] = rating_title_new[\"rating\"].apply(lambda x:1 if x>=4 else 0)\n",
    "\n",
    "rating_train = rating_title_new[rating_title_new['time'].isin(train_slot)].copy()\n",
    "rating_valid = rating_title_new[rating_title_new['time'].isin(valid_slot)].copy()\n",
    "rating_test = rating_title_new[rating_title_new['time'].isin(test_slot)].copy()\n",
    "\n",
    "\n",
    "rating_train.shape, rating_valid.shape, rating_test.shape"
   ]
  },
  {
   "cell_type": "code",
   "execution_count": null,
   "metadata": {},
   "outputs": [],
   "source": [
    "users = rating_train.uid.unique()\n",
    "items = rating_train.iid.unique()\n",
    "users_map = dict(zip(users, np.arange(users.shape[0])+1))\n",
    "items_map = dict(zip(items, np.arange(items.shape[0])+1))\n",
    "users_map[0]=0\n",
    "items_map[0]=0\n",
    "\n",
    "rating_train['uid'] = rating_train['uid'].map(users_map)\n",
    "rating_train['iid'] = rating_train['iid'].map(items_map)\n",
    "\n",
    "user_ratings = {}\n",
    "for i in tqdm(range(len(rating_train))):\n",
    "    user_ratings[rating_train.iloc[i].uid] = user_ratings.get(rating_train.iloc[i].uid, [])\n",
    "    tmp = {}\n",
    "    tmp[rating_train.iloc[i].title] = rating_train.iloc[i].rating\n",
    "    user_ratings[rating_train.iloc[i].uid].append(tmp)\n",
    "len(user_ratings)"
   ]
  },
  {
   "cell_type": "code",
   "execution_count": null,
   "metadata": {},
   "outputs": [],
   "source": [
    "rating_train.head()"
   ]
  },
  {
   "cell_type": "code",
   "execution_count": null,
   "metadata": {},
   "outputs": [],
   "source": [
    "user_ratings[740]"
   ]
  },
  {
   "cell_type": "code",
   "execution_count": null,
   "metadata": {},
   "outputs": [],
   "source": [
    "from copy import deepcopy\n",
    "\n",
    "\n",
    "dict_data_rating = []\n",
    "\n",
    "\n",
    "# prompt = f\"\"\"The user whose preferences is <unk>  rated the following items he has interacted: {data[\"history_list\"]}. \n",
    "#     Based on the user's rating, now given your item: {data[\"candidate_item_title\"]} with encoded feature is <unk>, you need to predict how will user rate for this item.Your response should be a number between 1-5 where 1 being lowest and 5 being highest.\n",
    "# \"\"\"\n",
    "   \n",
    "\n",
    "for user_id in range(1,len(user_ratings)+1):\n",
    "    user_rating_list = user_ratings[user_id]\n",
    "    if 2<= len(user_rating_list) <= 10:\n",
    "        tmp = {}\n",
    "        history_list , target_rating = user_rating_list[:-1], user_rating_list[-1]\n",
    "        history_ = []\n",
    "        history_title = []\n",
    "        desc = ''\n",
    "        for item in history_list:\n",
    "            desc += ' '\n",
    "            desc += list(item.items())[0][0]\n",
    "            desc += ', rating:'\n",
    "            desc += str(list(item.items())[0][1])\n",
    "        history_.append(deepcopy(desc.strip(',')))\n",
    "        tmp['history_list'] = history_\n",
    "        tmp[\"user_id\"] = user_id\n",
    "        candidate_item_title = list(target_rating.items())[0][0]\n",
    "        try:\n",
    "            candidate_item_id = [title_2_id[candidate_item_title]] + [0]*9\n",
    "        except:\n",
    "            continue\n",
    "        output = str(list(target_rating.items())[0][1])\n",
    "        tmp[\"candidate_item_title\"] = candidate_item_title\n",
    "        tmp[\"candidate_item\"] = candidate_item_id\n",
    "        tmp[\"output\"] = output\n",
    "        tmp[\"history_items_id\"] = [title_2_id.get(list(item.keys())[0], 0) for item in history_list]\n",
    "        dict_data_rating.append(tmp)\n",
    "    \n",
    "    else:\n",
    "        for i in range(min(len(user_rating_list)-11,45)):\n",
    "            tmp = {}\n",
    "            history_list , target_rating = user_rating_list[i:i+10], user_rating_list[i+10]\n",
    "            history_ = []\n",
    "            desc = \"\"\n",
    "            for item in history_list:\n",
    "                desc += \"\\t\"\n",
    "                desc += list(item.items())[0][0]\n",
    "                desc += ', rating: '\n",
    "                desc += str(list(item.items())[0][1])\n",
    "            history_.append(desc.strip(','))\n",
    "            tmp['history_list'] = history_\n",
    "            tmp[\"user_id\"] = user_id\n",
    "            candidate_item_title = list(target_rating.items())[0][0]\n",
    "            try:\n",
    "                candidate_item_id = [title_2_id[candidate_item_title]] + [0]*9\n",
    "            except:\n",
    "                continue\n",
    "            output = str(list(target_rating.items())[0][1])\n",
    "            tmp[\"candidate_item_title\"] = candidate_item_title\n",
    "            tmp[\"candidate_item\"] = candidate_item_id\n",
    "            tmp[\"output\"] = output\n",
    "            tmp[\"history_items_id\"] = [title_2_id.get(list(item.keys())[0], 0) for item in history_list]\n",
    "            dict_data_rating.append(tmp)\n",
    "print(len(dict_data_rating))\n",
    "    "
   ]
  },
  {
   "cell_type": "code",
   "execution_count": null,
   "metadata": {},
   "outputs": [],
   "source": [
    "rating_datas = []\n",
    "\n",
    "for data in tqdm(dict_data_rating):\n",
    "    rating_datas.append(generate_rating_prompt(data))\n",
    "random.shuffle(rating_datas)"
   ]
  },
  {
   "cell_type": "code",
   "execution_count": null,
   "metadata": {},
   "outputs": [],
   "source": [
    "rating_datas[100]"
   ]
  },
  {
   "cell_type": "code",
   "execution_count": null,
   "metadata": {},
   "outputs": [],
   "source": [
    "final_train_data = ctr_datas + random.sample(seq_datas, len(ctr_datas)) + rating_datas[: len(ctr_datas)//2]\n",
    "test_datas = ctr_datas_test + seq_datas_test + rating_datas[len(ctr_datas)//2:]\n",
    "print(\"total train datas: \", len(final_train_data))\n",
    "for data in final_train_data:\n",
    "    data[\"user_id\"] = int(data[\"user_id\"])\n",
    "    for key in data:\n",
    "\n",
    "        if key in [ \"candidate_item\", \"history_items_id\"]:\n",
    "            data[key] = [int(item) for item in data[key]]\n",
    "            "
   ]
  },
  {
   "cell_type": "code",
   "execution_count": null,
   "metadata": {},
   "outputs": [],
   "source": [
    "for data in test_datas:\n",
    "    data[\"user_id\"] = int(data[\"user_id\"])\n",
    "    for key in data:\n",
    "        if key in [ \"candidate_item\", \"history_items_id\"]:\n",
    "            data[key] = [int(item) for item in data[key]]"
   ]
  },
  {
   "cell_type": "code",
   "execution_count": null,
   "metadata": {},
   "outputs": [],
   "source": [
    "import jsonlines\n",
    "with jsonlines.open(\"../data/movielen_for_train/train.jsonl\", 'w') as w:\n",
    "    w.write_all(final_train_data)\n",
    "\n",
    "with jsonlines.open('../data/movielen_for_train/test.jsonl', 'w') as w:\n",
    "    w.write_all(test_datas)\n",
    "print(\"total test datas: \", len(test_datas))"
   ]
  },
  {
   "cell_type": "markdown",
   "metadata": {},
   "source": [
    "## All title"
   ]
  },
  {
   "cell_type": "code",
   "execution_count": null,
   "metadata": {},
   "outputs": [],
   "source": [
    "def generate_sequential_recommend_prompt(data):\n",
    "\n",
    "    \n",
    "    prompt = f\"\"\"The user has interacted with the following items:{data[\"history_list\"]} recently.\n",
    "    Based on this information, I want you to select the user's favorite item in the list of candidate items following: {data[\"candidate_item_title\"]}. Your response should be a item's title in the list of candidate items.\n",
    "\"\"\"\n",
    "    return {\"input\":prompt, 'output': data['output'], \"user_id\":data['user_id'], \"candidate_item\":data[\"candidate_item\"], \"task_type\":\"sequential\", \"history_items_id\":data[\"history_items_id\"]}\n",
    "\n",
    "def generate_ctr_prompt(data):\n",
    "\n",
    "    prompt = f\"\"\"The user has recently interacted the following items he likes {data[\"history_list\"]}.\n",
    "    Based on the user's preferences and items he liked, I want you to determine if the user will like the item whose title is: \"{data[\"candidate_item_title\"]}\". Your response should be a simple \"Yes\" or \"No\" without any explanations.\n",
    "\"\"\"\n",
    "    return {\"input\":prompt, 'output': data['output'], \"user_id\":data['user_id'], \"candidate_item\":data[\"candidate_item\"], \"task_type\":\"ctr\", \"history_items_id\":data[\"history_items_id\"]}\n",
    "\n",
    "def generate_rating_prompt(data):\n",
    "\n",
    "    prompt = f\"\"\"The user rated the following items he has interacted: {data[\"history_list\"]}. \n",
    "    Based on the user's rating, now given your item: {data[\"candidate_item_title\"]} you need to predict how will user rate for this item.Your response should be a number between 1-5 where 1 being lowest and 5 being highest.\n",
    "\"\"\"\n",
    "    return {\"input\":prompt, \"output\":data[\"output\"], \"user_id\":data[\"user_id\"], \"candidate_item\":data[\"candidate_item\"], \"task_type\":\"rating\", \"history_items_id\":data[\"history_items_id\"]}"
   ]
  },
  {
   "cell_type": "code",
   "execution_count": null,
   "metadata": {},
   "outputs": [],
   "source": [
    "\n",
    "from tqdm import tqdm\n",
    "dict_datas_ctr = []\n",
    "for i in tqdm(range(len(train_datas))):\n",
    "    tmp = {}\n",
    "    tmp[\"history_list\"] = filter_data.iloc[i].his_title[1:]\n",
    "    if len(tmp[\"history_list\"]) == 0:continue\n",
    "    tmp[\"user_id\"] = filter_data.iloc[i].uid\n",
    "    tmp[\"candidate_item_title\"] = filter_data.iloc[i].title\n",
    "    tmp[\"candidate_item\"] = [filter_data.iloc[i].iid] + [0] * 9\n",
    "    tmp[\"output\"] = \"Yes.\" if filter_data.iloc[i].label == 1 else \"No.\"\n",
    "    tmp[\"history_items_id\"] = filter_data.iloc[i].his[1:]\n",
    "    dict_datas_ctr.append(tmp)\n",
    "\n",
    "ctr_datas = []\n",
    "for data in tqdm(dict_datas_ctr):\n",
    "    ctr_datas.append(generate_ctr_prompt(data))\n",
    "print(len(ctr_datas))\n",
    "print(ctr_datas[100])"
   ]
  },
  {
   "cell_type": "code",
   "execution_count": null,
   "metadata": {},
   "outputs": [],
   "source": [
    "positive_datas = train_datas[(train_datas.label==1)]\n",
    "positive_datas"
   ]
  },
  {
   "cell_type": "code",
   "execution_count": null,
   "metadata": {},
   "outputs": [],
   "source": [
    "dict_datas_seq = []\n",
    "\n",
    "for i in tqdm(range(len(positive_datas))):\n",
    "    for j in range(1,3):\n",
    "        tmp = {}\n",
    "        tmp[\"user_id\"] = positive_datas.iloc[i].uid\n",
    "        tmp[\"history_list\"] = positive_datas.iloc[i].his_title[1:-j]\n",
    "        tmp[\"history_items_id\"] = positive_datas.iloc[i].his[1:-j]\n",
    "        sample_negative_ids =  random.sample(all_item_ids, 9)\n",
    "        candidate_item_ids = [positive_datas.iloc[i].iid] + sample_negative_ids\n",
    "        random.shuffle(candidate_item_ids)\n",
    "        tmp[\"candidate_item\"] = candidate_item_ids\n",
    "        tmp[\"candidate_item_title\"] = [ id_2_title[item]  for item in candidate_item_ids]\n",
    "        tmp[\"output\"] = positive_datas.iloc[i].title\n",
    "        dict_datas_seq.append(tmp)\n",
    "    \n",
    "seq_datas = []\n",
    "for data in tqdm(dict_datas_seq):\n",
    "    seq_datas.append(generate_sequential_recommend_prompt(data))\n",
    "\n",
    "print(seq_datas[100])\n",
    "print(\"topk data: \", len(seq_datas))"
   ]
  },
  {
   "cell_type": "code",
   "execution_count": null,
   "metadata": {},
   "outputs": [],
   "source": [
    "all_title_datas = ctr_datas + random.sample(seq_datas, len(ctr_datas)) + random.sample(rating_datas, len(ctr_datas)//2)\n",
    "for data in all_title_datas:\n",
    "    data[\"user_id\"] = int(data[\"user_id\"])\n",
    "    for key in data:\n",
    "        if key in [ \"candidate_item\", \"history_items_id\"]:\n",
    "            data[key] = [int(item) for item in data[key]]\n",
    "\n",
    "with jsonlines.open(\"../data/movielen_for_train/all_title_train.jsonl\", 'w') as w:\n",
    "    w.write_all(all_title_datas)\n"
   ]
  },
  {
   "cell_type": "code",
   "execution_count": null,
   "metadata": {},
   "outputs": [],
   "source": []
  }
 ],
 "metadata": {
  "kernelspec": {
   "display_name": "py39",
   "language": "python",
   "name": "python3"
  },
  "language_info": {
   "codemirror_mode": {
    "name": "ipython",
    "version": 3
   },
   "file_extension": ".py",
   "mimetype": "text/x-python",
   "name": "python",
   "nbconvert_exporter": "python",
   "pygments_lexer": "ipython3",
   "version": "3.9.0"
  }
 },
 "nbformat": 4,
 "nbformat_minor": 2
}
